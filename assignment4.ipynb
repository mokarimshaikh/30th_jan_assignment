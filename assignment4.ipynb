{
 "cells": [
  {
   "cell_type": "code",
   "execution_count": 1,
   "id": "82982c9f-0c30-4a86-8ba4-a172b339e59f",
   "metadata": {},
   "outputs": [],
   "source": [
    "# Q.1)\n"
   ]
  },
  {
   "cell_type": "code",
   "execution_count": 9,
   "id": "da66edc6-5bd3-4e96-adc7-471c72eb9cdb",
   "metadata": {},
   "outputs": [
    {
     "name": "stdin",
     "output_type": "stream",
     "text": [
      "Enter your marks :  75\n"
     ]
    },
    {
     "name": "stdout",
     "output_type": "stream",
     "text": [
      "Grade : C\n"
     ]
    }
   ],
   "source": [
    "# ans)\n",
    "\n",
    "mark= int(input(\"Enter your marks : \"))\n",
    "if mark > 90 :\n",
    "    print(\"Grade : A\")\n",
    "elif mark >80 and mark <= 90 :\n",
    "    print(\"Grade : B\")\n",
    "elif mark >=60 and mark <=80 :\n",
    "    print(\"Grade : C\")\n",
    "else:\n",
    "    if mark < 60 :\n",
    "         print(\"Grade : D\")"
   ]
  },
  {
   "cell_type": "code",
   "execution_count": 2,
   "id": "e402297c-53cc-4fd8-9b7a-f8e35d79cdf9",
   "metadata": {},
   "outputs": [],
   "source": [
    "# Q.2\n"
   ]
  },
  {
   "cell_type": "code",
   "execution_count": 1,
   "id": "2e6917c0-c950-46d4-b455-a38677221864",
   "metadata": {},
   "outputs": [
    {
     "name": "stdin",
     "output_type": "stream",
     "text": [
      "enter your cost price of bike :  200000\n"
     ]
    },
    {
     "name": "stdout",
     "output_type": "stream",
     "text": [
      "The amount of rode tex on the bike is :  30000.0\n"
     ]
    }
   ],
   "source": [
    "price_of_bike = int(input(\"enter your cost price of bike : \"))\n",
    "\n",
    "if price_of_bike >100000 :\n",
    "    tax=15\n",
    "    tax_rate= 15/100\n",
    "    print(\"The amount of rode tex on the bike is : \", price_of_bike*tax_rate)\n",
    "    \n",
    "elif price_of_bike >50000 and price_of_bike <= 100000 :\n",
    "    tax= 10 \n",
    "    tax_rate=10/100\n",
    "    print(\"The amount of rode tex on the bike is : \", price_of_bike*tax_rate)\n",
    "    \n",
    "else:\n",
    "    if price_of_bike <=50000 :\n",
    "        tax=5\n",
    "        tax_rate=5/100\n",
    "        print(\"The amount of rode tex on the bike is : \", price_of_bike*tax_rate)\n",
    "        \n",
    "    \n",
    "    \n",
    "    "
   ]
  },
  {
   "cell_type": "code",
   "execution_count": 3,
   "id": "8e19ab56-3677-4051-a8a1-71bc2819207b",
   "metadata": {},
   "outputs": [],
   "source": [
    "# Q .3\n"
   ]
  },
  {
   "cell_type": "code",
   "execution_count": 8,
   "id": "4a4fbcb7-9caf-4448-8b05-f1a6ec727d63",
   "metadata": {},
   "outputs": [
    {
     "name": "stdin",
     "output_type": "stream",
     "text": [
      "enter your city :  Agra\n"
     ]
    },
    {
     "name": "stdout",
     "output_type": "stream",
     "text": [
      "the best monuments in agra is : Taj mahal\n"
     ]
    }
   ],
   "source": [
    "City= input(\"enter your city : \")\n",
    "\n",
    "if City == \"Delhi\" :\n",
    "    print(\"The best monuments in delhi is : Red fort\")\n",
    "    \n",
    "elif City == \"Agra\" :\n",
    "    print(\"the best monuments in agra is : Taj mahal\")\n",
    "    \n",
    "else :\n",
    "    City == \"jaipur\"\n",
    "    print(\"the best monument in jaipur is : Jal Mahal\")"
   ]
  },
  {
   "cell_type": "code",
   "execution_count": 9,
   "id": "33dac766-2bff-4b11-8123-126c6740cc28",
   "metadata": {},
   "outputs": [],
   "source": [
    " # Q .4\n",
    "    "
   ]
  },
  {
   "cell_type": "code",
   "execution_count": 12,
   "id": "895310e4-ed29-4366-80b9-7199903d8895",
   "metadata": {},
   "outputs": [
    {
     "name": "stdout",
     "output_type": "stream",
     "text": [
      "3\n"
     ]
    }
   ],
   "source": [
    "count=0\n",
    "for i in range(1,11) :\n",
    "    if i % 3 == 0 :\n",
    "        count=count + 1\n",
    "        \n",
    "print(count)\n",
    "        \n",
    "    "
   ]
  },
  {
   "cell_type": "code",
   "execution_count": 13,
   "id": "f396876b-61e0-429a-a81b-e82698cc7188",
   "metadata": {},
   "outputs": [],
   "source": [
    "# Q.5\n"
   ]
  },
  {
   "cell_type": "code",
   "execution_count": null,
   "id": "675bd2c4-2bca-4718-9d11-59d0e073c15d",
   "metadata": {},
   "outputs": [],
   "source": [
    "In Python, a while loop is used to repeatedly execute a block of code as long as a specified condition is true. The loop continues until the condition becomes false. It is particularly useful when you want to perform an action multiple times when you don't know the exact number of iterations beforehand.\n",
    "\n",
    "The general syntax of a while loop in Python is:\n",
    "\n",
    "while condition:\n",
    "    # Code block to be executed while the condition is true\n",
    "The condition is an expression that evaluates to either True or False. If the condition is True, the loop's code block is executed, and after each iteration, the condition is checked again. When the condition eventually becomes False, the loop terminates, and the program moves on to the next line of code after the loop.\n",
    "\n",
    "Let's look at an example of using a while loop to print the first 5 positive integers:\n",
    "\n",
    "python\n",
    "Copy code\n",
    "counter = 1\n",
    "while counter <= 5:\n",
    "    print(counter)\n",
    "    counter += 1\n",
    "Output:\n",
    "\n",
    "Copy code\n",
    "1\n",
    "2\n",
    "3\n",
    "4\n",
    "5\n",
    "In this example, the variable counter is initialized with the value 1. The while loop's condition counter <= 5 will be true as long as the value of counter is less than or equal to 5. Inside the loop, we print the value of counter, and then we increment counter by 1 using counter += 1.\n",
    "\n",
    "The loop will execute as long as the condition counter <= 5 remains true. After the fifth iteration, counter becomes 6, and the condition counter <= 5 evaluates to False, causing the loop to terminate.\n",
    "\n",
    "While loops can be helpful when you want to repeatedly perform a task until a specific condition is met. However, you need to be cautious while using them to avoid infinite loops (loops that never terminate), which can lead to program crashes. Make sure your loop's condition eventually becomes false at some point during the loop's execution. Otherwise, you'll end up with an infinite loop.\n",
    "\n",
    "Here's an example of an infinite loop:\n",
    "\n",
    "# Infinite loop, don't run this\n",
    "while True:\n",
    "    print(\"This is an infinite loop!\")\n",
    "To exit an infinite loop or any while loop, you can use the break statement to force an immediate exit based on a certain condition. For example:\n",
    "\n",
    "counter = 1\n",
    "while True:\n",
    "    print(counter)\n",
    "    counter += 1\n",
    "    if counter > 5:\n",
    "        break\n",
    "This will produce the same output as the previous example and will exit the loop when counter becomes greater than 5.\n",
    "\n",
    "\n",
    "\n",
    "\n"
   ]
  },
  {
   "cell_type": "code",
   "execution_count": 14,
   "id": "eb7db3bf-0e16-4912-8313-34a62e5fe487",
   "metadata": {},
   "outputs": [],
   "source": [
    "# Q . 6\n"
   ]
  },
  {
   "cell_type": "code",
   "execution_count": 1,
   "id": "e1aa5ba3-50b2-434f-b195-913f3360c949",
   "metadata": {},
   "outputs": [
    {
     "name": "stdout",
     "output_type": "stream",
     "text": [
      "*  \n",
      "*  *  \n",
      "*  *  *  \n",
      "*  *  *  *  \n",
      "*  *  *  *  *  \n"
     ]
    }
   ],
   "source": [
    " # first pattern\n",
    "    \n",
    "row= 5\n",
    "i=1\n",
    "\n",
    "while i <=row :\n",
    "    j=1\n",
    "    while j <=i :\n",
    "        print(\"*\" , end = \"  \")\n",
    "        j=j+1\n",
    "    print()\n",
    "    i=i+1\n",
    "\n",
    "    "
   ]
  },
  {
   "cell_type": "code",
   "execution_count": 2,
   "id": "b3a01ac5-68ef-48c8-8f66-327c6b855acf",
   "metadata": {},
   "outputs": [
    {
     "name": "stdout",
     "output_type": "stream",
     "text": [
      "*  *  *  *  *  \n",
      "*  *  *  *  \n",
      "*  *  *  \n",
      "*  *  \n",
      "*  \n"
     ]
    }
   ],
   "source": [
    " # second pattern\n",
    "    \n",
    "row= 1\n",
    "i=5\n",
    "\n",
    "while i >=row :\n",
    "    j=1\n",
    "    while j <=i :\n",
    "        print(\"*\" , end = \"  \")\n",
    "        j=j+1\n",
    "    print()\n",
    "    i=i-1"
   ]
  },
  {
   "cell_type": "code",
   "execution_count": 3,
   "id": "006935af-8eb0-4df6-9040-3795b954f1e9",
   "metadata": {},
   "outputs": [
    {
     "name": "stdout",
     "output_type": "stream",
     "text": [
      "@*  @*  @*  @*  @*  \n",
      "@*  @*  @*  @*  @*  \n",
      "@*  @*  @*  @*  @*  \n",
      "@*  @*  @*  @*  @*  \n",
      "@*  @*  @*  @*  @*  \n"
     ]
    }
   ],
   "source": [
    " # third pattern\n",
    "side =5\n",
    "i=1\n",
    "while i <= side :\n",
    "    j=1\n",
    "    while j <= side :\n",
    "        print(\"@*\", end=\"  \")\n",
    "        j=j+1\n",
    "    print()\n",
    "    i=i+1"
   ]
  },
  {
   "cell_type": "code",
   "execution_count": 4,
   "id": "e7b23e27-1a2a-4016-b1b3-64a6c30b7534",
   "metadata": {},
   "outputs": [],
   "source": [
    " # Q.7\n",
    "    "
   ]
  },
  {
   "cell_type": "code",
   "execution_count": 6,
   "id": "3b08a324-e44e-4b86-a390-a969a905000e",
   "metadata": {},
   "outputs": [
    {
     "name": "stdout",
     "output_type": "stream",
     "text": [
      "10\n",
      "9\n",
      "8\n",
      "7\n",
      "6\n",
      "5\n",
      "4\n",
      "3\n",
      "2\n",
      "1\n"
     ]
    }
   ],
   "source": [
    "i=10\n",
    "while i >= 1 :\n",
    "    print(i)\n",
    "    i=i-1"
   ]
  },
  {
   "cell_type": "code",
   "execution_count": null,
   "id": "ef20993e-0d9a-422a-871f-0bcb6a138808",
   "metadata": {},
   "outputs": [],
   "source": []
  }
 ],
 "metadata": {
  "kernelspec": {
   "display_name": "Python 3 (ipykernel)",
   "language": "python",
   "name": "python3"
  },
  "language_info": {
   "codemirror_mode": {
    "name": "ipython",
    "version": 3
   },
   "file_extension": ".py",
   "mimetype": "text/x-python",
   "name": "python",
   "nbconvert_exporter": "python",
   "pygments_lexer": "ipython3",
   "version": "3.10.8"
  }
 },
 "nbformat": 4,
 "nbformat_minor": 5
}
